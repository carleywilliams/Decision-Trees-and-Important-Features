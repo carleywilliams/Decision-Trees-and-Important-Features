{
  "nbformat": 4,
  "nbformat_minor": 0,
  "metadata": {
    "colab": {
      "name": "HW6_williams_carley",
      "provenance": [],
      "collapsed_sections": [],
      "toc_visible": true
    },
    "kernelspec": {
      "name": "python3",
      "display_name": "Python 3"
    },
    "language_info": {
      "name": "python"
    }
  },
  "cells": [
    {
      "cell_type": "markdown",
      "metadata": {
        "id": "gJL_nLkdHYDy"
      },
      "source": [
        "# Homework 6 (30 marks)\n",
        "Create a copy of the notebook to start answering the questions. Name your notebook in the format HW6_lastname_firstname.ipynb to facilitate the grading process.\n",
        "\n",
        "Answer all the questions, test your code to ensure there are no errors and the results are as expected. Once you have answered all the questions, save the final copy, then go to File-> click on Download.ipynb. Once the local copy has been downloaded, submit your file on Blackboard under the corresponding assignment section. Also provide us a link to your notebook during submission.\n",
        "\n",
        "NOTE: Please give the TAs the permission to access your notebooks through the links you have provided during submission.\n",
        "\n",
        "The due date of this homework is 04/09/2021 (Friday).\n",
        "\n",
        "Please ensure you follow all the steps mentioned in the homework.\n",
        "\n",
        "You can submit your solutions any number of times until the deadline.\n",
        "\n",
        "The datasets used in this homework can be found in the google drive link below -\n",
        "\n",
        "https://drive.google.com/drive/folders/1NxCh4X7u7wVo5aHojxjLNs9wC7B7zJhb?usp=sharing\n",
        "\n",
        "Follow the necessary steps to import data to test your code. You can use any method to read your data in the notebook. We will not be grading the methods you use. We will only grade the code from the point where you read the dataset into a pandas dataframe - (pd.read_csv('file_name'))"
      ]
    },
    {
      "cell_type": "markdown",
      "metadata": {
        "id": "Zp3D8wIOH4bR"
      },
      "source": [
        "Import all the libraries you require in the cell below.\n",
        "\n"
      ]
    },
    {
      "cell_type": "code",
      "metadata": {
        "id": "72EyvzqAH6G_"
      },
      "source": [
        "import numpy as np\n",
        "import pandas as pd\n",
        "import matplotlib.pyplot as plt\n",
        "import seaborn as sn"
      ],
      "execution_count": null,
      "outputs": []
    },
    {
      "cell_type": "markdown",
      "metadata": {
        "id": "TxCnZ-n3H0Wd"
      },
      "source": [
        "### 1. Build a classification model that predicts the edibility of mushrooms (class variable in the dataset). You have been provide with a dataset as a mushrooms.csv file. \n",
        "Here is a description of the attributes\n"
      ]
    },
    {
      "cell_type": "markdown",
      "metadata": {
        "id": "2WX2OwgOIHMd"
      },
      "source": [
        "Attribute description:\n",
        "1. cap-shape: bell=b,conical=c,convex=x,flat=f, knobbed=k,sunken=s \n",
        "2. cap-surface: fibrous=f,grooves=g,scaly=y,smooth=s \n",
        "3. cap-color: brown=n,buff=b,cinnamon=c,gray=g,green=r, pink=p,purple=u,red=e,white=w,yellow=y \n",
        "4. bruises?: bruises=t,no=f \n",
        "5. odor: almond=a,anise=l,creosote=c,fishy=y,foul=f, musty=m,none=n,pungent=p,spicy=s \n",
        "6. gill-attachment: attached=a,descending=d,free=f,notched=n \n",
        "7. gill-spacing: close=c,crowded=w,distant=d \n",
        "8. gill-size: broad=b,narrow=n \n",
        "9. gill-color: black=k,brown=n,buff=b,chocolate=h,gray=g, green=r,orange=o,pink=p,purple=u,red=e, white=w,yellow=y \n",
        "10. stalk-shape: enlarging=e,tapering=t \n",
        "11. stalk-root: bulbous=b,club=c,cup=u,equal=e, rhizomorphs=z,rooted=r,missing=? \n",
        "12. stalk-surface-above-ring: fibrous=f,scaly=y,silky=k,smooth=s \n",
        "13. stalk-surface-below-ring: fibrous=f,scaly=y,silky=k,smooth=s \n",
        "14. stalk-color-above-ring: brown=n,buff=b,cinnamon=c,gray=g,orange=o, pink=p,red=e,white=w,yellow=y \n",
        "15. stalk-color-below-ring: brown=n,buff=b,cinnamon=c,gray=g,orange=o, pink=p,red=e,white=w,yellow=y \n",
        "16. veil-type: partial=p,universal=u \n",
        "17. veil-color: brown=n,orange=o,white=w,yellow=y \n",
        "18. ring-number: none=n,one=o,two=t \n",
        "19. ring-type: cobwebby=c,evanescent=e,flaring=f,large=l, none=n,pendant=p,sheathing=s,zone=z \n",
        "20. spore-print-color: black=k,brown=n,buff=b,chocolate=h,green=r, orange=o,purple=u,white=w,yellow=y \n",
        "21. population: abundant=a,clustered=c,numerous=n, scattered=s,several=v,solitary=y \n",
        "22. habitat: grasses=g,leaves=l,meadows=m,paths=p, urban=u,waste=w,woods=d\n",
        "23. class: p = poisonous, e=edible\n"
      ]
    },
    {
      "cell_type": "markdown",
      "metadata": {
        "id": "LJeXdQymILSv"
      },
      "source": [
        "1. Build a classification tree. Random_state =2020. Training partition 0.7. stratify = y, max_depth = 6, use Entropy (8 marks)\n",
        "\n",
        "A. Read the dataset, explore it and determine what is the dependent variable (1 mark)\n",
        "\n",
        "B. Store the feature and target variable. (2 marks)\n",
        "\n",
        "C. Convert all categorical variables into dummy variables (1 mark)\n",
        "\n",
        "D. Partition the data into training and test sets (70/30) (1 mark)\n",
        "\n",
        "E. Fit the training data to a classification tree. (3 marks)"
      ]
    },
    {
      "cell_type": "code",
      "metadata": {
        "id": "Eme32RA0IKoR",
        "colab": {
          "base_uri": "https://localhost:8080/"
        },
        "outputId": "6c5f6682-bcae-4e10-990b-3e8b78f4ae24"
      },
      "source": [
        "#A\n",
        "df = pd.read_csv('mushrooms.csv')\n",
        "df.info()\n",
        "df.describe()\n",
        "#Dependent variable is class (p = poisonous, e=edible)\n",
        "\n",
        "#B\n",
        "targetV = df['class']\n",
        "featureV = df.drop(['class'], axis=1)\n",
        "\n",
        "#C\n",
        "#dfTwo = pd.get_dummies(df, columns=['cap-shape', 'cap-surface', 'cap-color', 'bruises', 'odor', 'gill-attachment', 'gill-spacing', 'gill-size', 'gill-color', 'stalk-shape', 'stalk-root', 'stalk-surface-above-ring', 'stalk-color-above-ring', 'stalk-color-below-ring', 'stalk-surface-below-ring', 'veil-type', 'veil-color', 'ring-number', 'ring-type', 'spore-print-color', 'population', 'habitat'])\n",
        "dfTwo = pd.get_dummies(df, columns= featureV.columns)\n",
        "y = dfTwo['class']\n",
        "X = dfTwo.drop(['class'], axis=1)\n",
        "\n",
        "\n",
        "#D\n",
        "from sklearn.model_selection import train_test_split\n",
        "X_train, X_test, y_train, y_test = train_test_split(X, y, test_size=0.3, random_state=2020, stratify = y)\n",
        "\n",
        "#E\n",
        "from sklearn.tree import DecisionTreeClassifier\n",
        "dt = DecisionTreeClassifier(criterion='entropy', max_depth=6)\n",
        "dt.fit(X_train, y_train)\n"
      ],
      "execution_count": null,
      "outputs": [
        {
          "output_type": "stream",
          "text": [
            "<class 'pandas.core.frame.DataFrame'>\n",
            "RangeIndex: 8124 entries, 0 to 8123\n",
            "Data columns (total 23 columns):\n",
            " #   Column                    Non-Null Count  Dtype \n",
            "---  ------                    --------------  ----- \n",
            " 0   class                     8124 non-null   object\n",
            " 1   cap-shape                 8124 non-null   object\n",
            " 2   cap-surface               8124 non-null   object\n",
            " 3   cap-color                 8124 non-null   object\n",
            " 4   bruises                   8124 non-null   object\n",
            " 5   odor                      8124 non-null   object\n",
            " 6   gill-attachment           8124 non-null   object\n",
            " 7   gill-spacing              8124 non-null   object\n",
            " 8   gill-size                 8124 non-null   object\n",
            " 9   gill-color                8124 non-null   object\n",
            " 10  stalk-shape               8124 non-null   object\n",
            " 11  stalk-root                8124 non-null   object\n",
            " 12  stalk-surface-above-ring  8124 non-null   object\n",
            " 13  stalk-surface-below-ring  8124 non-null   object\n",
            " 14  stalk-color-above-ring    8124 non-null   object\n",
            " 15  stalk-color-below-ring    8124 non-null   object\n",
            " 16  veil-type                 8124 non-null   object\n",
            " 17  veil-color                8124 non-null   object\n",
            " 18  ring-number               8124 non-null   object\n",
            " 19  ring-type                 8124 non-null   object\n",
            " 20  spore-print-color         8124 non-null   object\n",
            " 21  population                8124 non-null   object\n",
            " 22  habitat                   8124 non-null   object\n",
            "dtypes: object(23)\n",
            "memory usage: 1.4+ MB\n"
          ],
          "name": "stdout"
        },
        {
          "output_type": "execute_result",
          "data": {
            "text/plain": [
              "DecisionTreeClassifier(ccp_alpha=0.0, class_weight=None, criterion='entropy',\n",
              "                       max_depth=6, max_features=None, max_leaf_nodes=None,\n",
              "                       min_impurity_decrease=0.0, min_impurity_split=None,\n",
              "                       min_samples_leaf=1, min_samples_split=2,\n",
              "                       min_weight_fraction_leaf=0.0, presort='deprecated',\n",
              "                       random_state=None, splitter='best')"
            ]
          },
          "metadata": {
            "tags": []
          },
          "execution_count": 126
        }
      ]
    },
    {
      "cell_type": "markdown",
      "metadata": {
        "id": "YB-2YFsOIUah"
      },
      "source": [
        "2. Print the confusion matrix. \n",
        "Also visualize the confusion matrix using plot_confusion_matrix from sklearn.metrics (3 marks)\n",
        "\n"
      ]
    },
    {
      "cell_type": "code",
      "metadata": {
        "id": "VFwyLKzcRjyY",
        "colab": {
          "base_uri": "https://localhost:8080/",
          "height": 313
        },
        "outputId": "dcf91632-85dc-4994-fb64-756160f104a3"
      },
      "source": [
        "from sklearn import metrics\n",
        "import matplotlib.pyplot as plt\n",
        "\n",
        "\n",
        "cf = metrics.confusion_matrix(y_test, y_pred)\n",
        "print(cf)\n",
        "metrics.plot_confusion_matrix(dt, X_test, y_test)\n",
        "plt.show()"
      ],
      "execution_count": null,
      "outputs": [
        {
          "output_type": "stream",
          "text": [
            "[[1263    0]\n",
            " [   3 1172]]\n"
          ],
          "name": "stdout"
        },
        {
          "output_type": "display_data",
          "data": {
            "image/png": "[encoded data removed]",
            "text/plain": [
              "<Figure size 432x288 with 2 Axes>"
            ]
          },
          "metadata": {
            "tags": [],
            "needs_background": "light"
          }
        }
      ]
    },
    {
      "cell_type": "markdown",
      "metadata": {
        "id": "yhdyvv48JFFd"
      },
      "source": [
        "3. Print the accuracy on the training partition?  (2 marks)\n"
      ]
    },
    {
      "cell_type": "code",
      "metadata": {
        "id": "WeQ9cOluRrL2",
        "colab": {
          "base_uri": "https://localhost:8080/"
        },
        "outputId": "44540015-4aed-499f-8278-2955f769dc38"
      },
      "source": [
        "pred = dt.predict(X_train)\n",
        "from sklearn.metrics import accuracy_score\n",
        "accuracy_score(y_train, pred)"
      ],
      "execution_count": null,
      "outputs": [
        {
          "output_type": "execute_result",
          "data": {
            "text/plain": [
              "1.0"
            ]
          },
          "metadata": {
            "tags": []
          },
          "execution_count": 128
        }
      ]
    },
    {
      "cell_type": "markdown",
      "metadata": {
        "id": "_aH9TPFSJGv_"
      },
      "source": [
        "4. Print the accuracy on the test partition? (2 marks)\n"
      ]
    },
    {
      "cell_type": "code",
      "metadata": {
        "id": "U4eEWJCvRwSn",
        "colab": {
          "base_uri": "https://localhost:8080/"
        },
        "outputId": "17050831-facc-4538-c19c-7cb396548bfc"
      },
      "source": [
        "y_pred = dt.predict(X_test)\n",
        "print('Accuracy =', metrics.accuracy_score(y_test, y_pred))"
      ],
      "execution_count": null,
      "outputs": [
        {
          "output_type": "stream",
          "text": [
            "Accuracy = 0.9987694831829368\n"
          ],
          "name": "stdout"
        }
      ]
    },
    {
      "cell_type": "markdown",
      "metadata": {
        "id": "_cWbOP-3JIE0"
      },
      "source": [
        "5. Show the classification tree and save it (5 marks)\n"
      ]
    },
    {
      "cell_type": "code",
      "metadata": {
        "id": "LRuYQCeNR1Dn",
        "colab": {
          "base_uri": "https://localhost:8080/",
          "height": 248
        },
        "outputId": "7ef970bd-2f24-4bbf-bd8d-3782574b47eb"
      },
      "source": [
        "from sklearn import tree\n",
        "plt.figure()\n",
        "fn = X.columns\n",
        "cn = y.unique()\n",
        "tree = tree.plot_tree(dt, feature_names=fn, class_names=cn, filled=True)\n",
        "plt.savefig('MushroomDT.png')\n",
        "plt.show()"
      ],
      "execution_count": null,
      "outputs": [
        {
          "output_type": "display_data",
          "data": {
            "image/png": "[encoded data removed]",
            "text/plain": [
              "<Figure size 432x288 with 1 Axes>"
            ]
          },
          "metadata": {
            "tags": [],
            "needs_background": "light"
          }
        }
      ]
    },
    {
      "cell_type": "markdown",
      "metadata": {
        "id": "a3fM0HMSJJl8"
      },
      "source": [
        "6. Find and print the top three most important features in your decision tree for determining toxicity. (4 marks)"
      ]
    },
    {
      "cell_type": "code",
      "metadata": {
        "id": "qTkc8ga1R6kd",
        "colab": {
          "base_uri": "https://localhost:8080/"
        },
        "outputId": "b375a98e-1349-4420-a1a0-25bf8ed5b4b9"
      },
      "source": [
        "#print('Feature Importance:', dt.feature_importances_)\n",
        "imp=pd.DataFrame(zip(X_train.columns, dt.feature_importances_))\n",
        "print(imp[:3])"
      ],
      "execution_count": null,
      "outputs": [
        {
          "output_type": "stream",
          "text": [
            "             0         1\n",
            "0  cap-shape_b  0.000000\n",
            "1  cap-shape_c  0.002229\n",
            "2  cap-shape_f  0.000000\n"
          ],
          "name": "stdout"
        }
      ]
    },
    {
      "cell_type": "markdown",
      "metadata": {
        "id": "uye7JohHJQmN"
      },
      "source": [
        "7. Classify the following mushroom. (6 marks)\n",
        "\n",
        "class\n",
        " : **?**\n",
        "\n",
        "cap-shape\n",
        ": **x**\n",
        "\n",
        "cap-surface\n",
        ": **s**\n",
        "\n",
        "cap-color\n",
        ": **n**\n",
        "\n",
        "bruises\n",
        ": **t**\n",
        "\n",
        "odor\n",
        ": **y**\n",
        "\n",
        "gill-attachment\n",
        ": **f**\n",
        "\n",
        "gill-spacing\n",
        ": **c**\n",
        "\n",
        "gill-size\n",
        ": **n**\n",
        "\n",
        "gill-color\n",
        ": **k**\n",
        "\n",
        "stalk-shape\n",
        ": **e**\n",
        "\n",
        "stalk-root\n",
        ": **e**\n",
        "\n",
        "stalk-surface-above-ring\n",
        ": **s**\n",
        "\n",
        "stalk-surface-below-ring\n",
        ": **s**\n",
        "\n",
        "stalk-color-above-ring\n",
        ": **w**\n",
        "\n",
        "stalk-color-below-ring\n",
        ": **w**\n",
        "\n",
        "veil-type\n",
        ": **p**\n",
        "\n",
        "veil-color\n",
        ": **w**\n",
        "\n",
        "ring-number\n",
        ": **o**\n",
        "\n",
        "ring-type\n",
        ": **p**\n",
        "\n",
        "spore-print-color\n",
        ": **r**\n",
        "\n",
        "population\n",
        ": **s**\n",
        "\n",
        "habitat\n",
        ": **u**\n",
        "\n"
      ]
    },
    {
      "cell_type": "code",
      "metadata": {
        "id": "jaLW4bhtSGjh",
        "colab": {
          "base_uri": "https://localhost:8080/"
        },
        "outputId": "e652ee60-849c-4923-f55f-60a1d350a8d4"
      },
      "source": [
        "predMush = [[0,0,0,0,0,1,0,0,1,0,0,0,0,0,1,0,0,0,0,0,0,1,0,0,0,0,0,0,0,0,1,0,1,1,0,0,1,0,0,0,0,1,0,0,0,0,0,0,0,1,0,0,0,0,1,0,0,0,1,0,0,0,0,0,0,0,0,1,0,0,0,0,0,0,0,0,1,0,0,0,1,0,1,0,0,1,0,0,1,0,0,0,0,0,1,0,0,0,0,0,1,0,0,0,0,0,0,1,0,0,0,0,0,0,0,1,0]]\n",
        "pred = dt.predict(predMush)\n",
        "print(pred)\n",
        "if pred == \"p\":\n",
        "  print(\"Classification: Poisonous\")\n",
        "if pred == \"e\":\n",
        "  print(\"Classification: Edible\")"
      ],
      "execution_count": null,
      "outputs": [
        {
          "output_type": "stream",
          "text": [
            "['p']\n",
            "Classification: Poisonous\n"
          ],
          "name": "stdout"
        }
      ]
    }
  ]
}